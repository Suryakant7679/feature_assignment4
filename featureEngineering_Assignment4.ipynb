{
 "cells": [
  {
   "cell_type": "markdown",
   "id": "98df35b7-cecd-47e9-9baf-a1e8f5029c2a",
   "metadata": {},
   "source": [
    "Q1. What is the difference between Ordinal Encoding and Label Encoding? Provide an example of when you\r\n",
    "might choose one over the other."
   ]
  },
  {
   "cell_type": "markdown",
   "id": "ee3064ef-0aff-4a93-9dbd-81fdb361ea7f",
   "metadata": {},
   "source": [
    "Ans:- we use ordinal encoding to preserve order of categorical data i.e. cold, warm, hot; low, medium, high. You use label encoding or one hot for categorical data, where there's no order in data i.e. dog, cat, whale."
   ]
  },
  {
   "cell_type": "markdown",
   "id": "6ac76f6e-dded-45b0-a04c-e60ecde8b6ba",
   "metadata": {},
   "source": [
    "Q2. Explain how Target Guided Ordinal Encoding works and provide an example of when you might use it in\n",
    "a machine learning project."
   ]
  },
  {
   "cell_type": "markdown",
   "id": "7e123b24-8c81-472a-a554-d98947c29268",
   "metadata": {},
   "source": [
    "Ans:-In this technique we will take help of our target variable to encode the categorical data . lets understand by an example,Employee Id\tCity\n",
    "Highest Qualification\tSalary\n",
    "\r\n",
    "A100\tdelhi\tPhd\t5000\n",
    "0\r\n",
    "A101\tdelhi\tbsc\t300\n",
    "00\r\n",
    "A102\tmumbai\tmsc\t45\n",
    "000\r\n",
    "B101\tpune\tbsc\t2\n",
    "5000\r\n",
    "B102\tkolkata\tphd\t\n",
    "48000\r\n",
    "C100\tpune\tmsc\t\n",
    "30000\r\n",
    "D103\tkolkata\tmsc\n",
    "\t44000\r\n",
    "Lets try to encode the city column using the target guided encoding. Here our target variable is salary.\r\n",
    "\r\n",
    "step 1: sort the cities based upon the corresponding salary. Now to do this we will take mean of all the salaries of that particular city.\r\n",
    "\r\n",
    "step 2: Based upon the mean of the salary  the descending order of the city is :\r\n",
    "\r\n",
    "                                                         kolkata>mumbai>delhi>pune\r\n",
    "\r\n",
    "step3: Based upon this order we will rank the cit\n",
    "ies.\r\n",
    "\r\n",
    "Ci\n",
    "ty\tRank\r\n",
    "\n",
    "kolkata\t\n",
    "4\r\n",
    "mumbai\t3\r\n",
    "delhi\t2\r\n",
    "pune\t1\r\n",
    "(note: you can rank them in the opposite order too)\r\n",
    "\r\n",
    "step 4 : we will use this information to encode the City\n",
    " column of the dataset.\r\n",
    "\r\n",
    "Employee Id \tCity\tHi\n",
    "ghest Qualificati\n",
    "on\tSalary\r\n",
    "A100\t2\n",
    "\n",
    "\tphd\t50000\r\n",
    "A101\t\n",
    "2\tbsc\t30000\r\n",
    "A102\n",
    "\t3\tmsc\t45000\r\n",
    "B10\n",
    "1\t1\tbsc\t25000\r\n",
    "B1\n",
    "02\t4\tphd\t48000\r\n",
    "C100\t1\tmsc\t30000\r\n",
    "D103\t4\tmsc\t44000\r\n"
   ]
  },
  {
   "cell_type": "markdown",
   "id": "80e586dd-744a-452d-b6da-7c252494003d",
   "metadata": {},
   "source": [
    "Q3. Define covariance and explain why it is important in statistical analysis. How is covariance calculated?"
   ]
  },
  {
   "cell_type": "markdown",
   "id": "79f0aff4-de14-47a2-b4c5-26474ecb0061",
   "metadata": {},
   "source": [
    "Ans:- Covariance shows the relation between two  data ,\n",
    "Covariance is a measure of the relationship between two random variables and to what extent, they change together. Or we can say, in other words, it defines the changes between the two variables, such that change in one variable is equal to change in another variable.i.e. how the data is relate.\n",
    "Covariance is calculated by formular (x-x')(y-y')/n-1"
   ]
  },
  {
   "cell_type": "markdown",
   "id": "9794af8f-8492-4257-9c94-71ce2a584485",
   "metadata": {},
   "source": [
    "Q4. For a dataset with the following categorical variables: Color (red, green, blue), Size (small, medium,\r\n",
    "large), and Material (wood, metal, plastic), perform label encoding using Python's scikit-learn library.\r\n",
    "Show your code and explain the output."
   ]
  },
  {
   "cell_type": "code",
   "execution_count": 1,
   "id": "3e96c2eb-3cd1-420e-b237-0b36b1431375",
   "metadata": {},
   "outputs": [
    {
     "name": "stdout",
     "output_type": "stream",
     "text": [
      "   Color    Size Material  Color_Encoded  Size_Encoded  Material_Encoded\n",
      "0    red   small     wood              2             2                 2\n",
      "1  green  medium    metal              1             1                 0\n",
      "2   blue   large  plastic              0             0                 1\n",
      "3   blue   small     wood              0             2                 2\n",
      "4  green  medium  plastic              1             1                 1\n",
      "5    red  medium    metal              2             1                 0\n"
     ]
    }
   ],
   "source": [
    "from sklearn.preprocessing import LabelEncoder\n",
    "import pandas as pd\n",
    "\n",
    "# create sample data\n",
    "data = {'Color': ['red', 'green', 'blue', 'blue', 'green', 'red'],\n",
    "        'Size': ['small', 'medium', 'large', 'small', 'medium', 'medium'],\n",
    "        'Material': ['wood', 'metal', 'plastic', 'wood', 'plastic', 'metal']}\n",
    "df = pd.DataFrame(data)\n",
    "\n",
    "# create a label encoder object\n",
    "le = LabelEncoder()\n",
    "\n",
    "# encode categorical variables\n",
    "df['Color_Encoded'] = le.fit_transform(df['Color'])\n",
    "df['Size_Encoded'] = le.fit_transform(df['Size'])\n",
    "df['Material_Encoded'] = le.fit_transform(df['Material'])\n",
    "\n",
    "# print the encoded dataset\n",
    "print(df)"
   ]
  },
  {
   "cell_type": "markdown",
   "id": "84e87705-5609-415a-ba88-580025c921cb",
   "metadata": {},
   "source": [
    "In this example, we create a sample dataset with three categorical variables: Color, Size, and Material. We then create a label encoder object using scikit-learn's LabelEncoder class, and use it to encode each of the categorical variables into numeric values.\r\n",
    "\r\n",
    "The fit_transform method is used to fit the label encoder to the data and transform the categorical variable into encoded numeric values. We do this separately for each categorical variable, and create new columns in the original dataset to store the encoded values.\r\n",
    "\r\n",
    "The output shows the original dataset with the three categorical variables, followed by the encoded values for each variable. The encoded values are represented by integers, with each unique category being assigned a unique integer. The encoding is arbitrary and does not imply any ordering or magnitude of the categories."
   ]
  },
  {
   "cell_type": "markdown",
   "id": "4e809a98-7a7b-4e2a-b0b3-ffbff58fc172",
   "metadata": {},
   "source": [
    "Q5. Calculate the covariance matrix for the following variables in a dataset: Age, Income, and Education\r\n",
    "level. Interpret the results."
   ]
  },
  {
   "cell_type": "code",
   "execution_count": 6,
   "id": "15d4184b-968d-46f3-84a0-b75ec60ffa3d",
   "metadata": {},
   "outputs": [
    {
     "name": "stdout",
     "output_type": "stream",
     "text": [
      "[[8.32716823e+08 4.99506816e+08 8.99408772e+08 5.82834284e+08\n",
      "  1.16570197e+09]\n",
      " [4.99506816e+08 2.99630144e+08 5.39512104e+08 3.49614282e+08\n",
      "  6.99248619e+08]\n",
      " [8.99408772e+08 5.39512104e+08 9.71442082e+08 6.29513258e+08\n",
      "  1.25906252e+09]\n",
      " [5.82834284e+08 3.49614282e+08 6.29513258e+08 4.07936767e+08\n",
      "  8.15896880e+08]\n",
      " [1.16570197e+09 6.99248619e+08 1.25906252e+09 8.15896880e+08\n",
      "  1.63184060e+09]]\n"
     ]
    }
   ],
   "source": [
    "import numpy as np\n",
    "import pandas as pd\n",
    "\n",
    "data={\n",
    "    'Age':[25,24,17,19,48],\n",
    "    'Income':[50000,30000,54000,35000,70000],\n",
    "    'Education':[12,13,14,15,16]\n",
    "}\n",
    "df=pd.DataFrame(data)\n",
    "cov=np.cov(df)\n",
    "\n",
    "print(cov)"
   ]
  },
  {
   "cell_type": "markdown",
   "id": "10418ea0-5300-493b-95b7-d1fc302b8e43",
   "metadata": {},
   "source": [
    "Q6. You are working on a machine learning project with a dataset containing several categorical variables, including \"Gender\" (Male/Female), \"Education Level\" (High School/Bachelor's/Master's/PhD), and \"Employment Status\" (Unemployed/Part-Time/Full-Time). Which encoding method would you use for each variable, and why?"
   ]
  },
  {
   "cell_type": "markdown",
   "id": "6cbc811d-613d-4a17-8aff-56aa3f1998a0",
   "metadata": {},
   "source": [
    "Ans:-For the \"Gender\" variable, I would use binary encoding or label encoding, since there are only two categories (Male and Female). Binary encoding would create a new column with binary values (0 and 1) to represent the two categories, while label encoding would replace the categories with numerical values (e.g. 0 for Male and 1 for Female).\r\n",
    "\r\n",
    "For the \"Education Level\" variable, I would use ordinal encoding, since there is an inherent order to the categories (High School < Bachelor's < Master's < PhD). Ordinal encoding assigns numerical values to the categories based on their order, such as 0 for High School, 1 for Bachelor's, 2 for Master's, and 3 for PhD.\r\n",
    "\r\n",
    "For the \"Employment Status\" variable, I would use one-hot encoding, since there is no inherent order to the categories (Unemployed, Part-Time, Full-Time) and each category is equally important. One-hot encoding creates a new column for each category and assigns a binary value (0 or 1) to indicate whether the category is present or not. For example, the \"Unemployed\" column would have a value of 1 for rows where the person is unemployed and a value of 0 for rows where the person is employed.\r\n",
    "\r\n",
    "It's important to choose the appropriate encoding method for each variable to ensure that the encoded features accurately represent the underlying data and can be effectively used by machine learning algorithms."
   ]
  },
  {
   "cell_type": "markdown",
   "id": "5f591485-a945-4002-8345-1bf93ed550be",
   "metadata": {},
   "source": [
    "Q7. You are analyzing a dataset with two continuous variables, \"Temperature\" and \"Humidity\", and two\r\n",
    "categorical variables, \"Weather Condition\" (Sunny/Cloudy/Rainy) and \"Wind Direction\" (North/South/\r\n",
    "East/West). Calculate the covariance between each pair of variables and interpret the results."
   ]
  },
  {
   "cell_type": "code",
   "execution_count": 1,
   "id": "d7ae5b39-f0a3-4a25-9caf-2b9d6507246c",
   "metadata": {},
   "outputs": [
    {
     "name": "stdout",
     "output_type": "stream",
     "text": [
      "[[62.5 62.5]\n",
      " [62.5 62.5]]\n"
     ]
    }
   ],
   "source": [
    "import numpy as np\n",
    "import pandas as pd\n",
    "\n",
    "# create a sample dataset with Temperature, Humidity, Weather Condition, and Wind Direction\n",
    "data = {'Temperature': [20, 25, 30, 35, 40],\n",
    "        'Humidity': [50, 55, 60, 65, 70],\n",
    "        'Weather Condition': ['Sunny', 'Sunny', 'Cloudy', 'Rainy', 'Rainy'],\n",
    "        'Wind Direction': ['North', 'South', 'East', 'West', 'North']}\n",
    "df = pd.DataFrame(data)\n",
    "\n",
    "# calculate the covariance matrix using NumPy\n",
    "cov_matrix = np.cov(df[['Temperature', 'Humidity']].T)\n",
    "\n",
    "# print the covariance matrix\n",
    "print(cov_matrix)"
   ]
  },
  {
   "cell_type": "code",
   "execution_count": null,
   "id": "a7a033dd-b163-48f2-b511-294720ed71fb",
   "metadata": {},
   "outputs": [],
   "source": []
  }
 ],
 "metadata": {
  "kernelspec": {
   "display_name": "Python 3 (ipykernel)",
   "language": "python",
   "name": "python3"
  },
  "language_info": {
   "codemirror_mode": {
    "name": "ipython",
    "version": 3
   },
   "file_extension": ".py",
   "mimetype": "text/x-python",
   "name": "python",
   "nbconvert_exporter": "python",
   "pygments_lexer": "ipython3",
   "version": "3.10.0"
  }
 },
 "nbformat": 4,
 "nbformat_minor": 5
}
